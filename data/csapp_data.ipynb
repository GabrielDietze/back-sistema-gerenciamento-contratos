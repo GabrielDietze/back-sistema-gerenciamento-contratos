{
  "nbformat": 4,
  "nbformat_minor": 0,
  "metadata": {
    "colab": {
      "provenance": []
    },
    "kernelspec": {
      "name": "python3",
      "display_name": "Python 3"
    },
    "language_info": {
      "name": "python"
    }
  },
  "cells": [
    {
      "cell_type": "code",
      "execution_count": 21,
      "metadata": {
        "id": "JxXgmNsdr5Au"
      },
      "outputs": [],
      "source": [
        "import pandas as pd"
      ]
    },
    {
      "cell_type": "code",
      "source": [
        "nome_arquivo = \"CsApp.xlsx\""
      ],
      "metadata": {
        "id": "7E5AkLbewqHc"
      },
      "execution_count": 22,
      "outputs": []
    },
    {
      "cell_type": "code",
      "source": [
        "# Cria os dataframes\n",
        "df_default = pd.read_excel(nome_arquivo, sheet_name=0)\n",
        "df_clientes = pd.read_excel(nome_arquivo, sheet_name=1)\n",
        "df_usuarios = pd.read_excel(nome_arquivo, sheet_name=2)\n",
        "df_segmentos = pd.read_excel(nome_arquivo, sheet_name=3)\n",
        "df_fabricantes = pd.read_excel(nome_arquivo, sheet_name=4)\n",
        "df_produtos = pd.read_excel(nome_arquivo, sheet_name=5)\n",
        "df_faturados = pd.read_excel(nome_arquivo, sheet_name=6)\n",
        "df_contratos = pd.read_excel(nome_arquivo, sheet_name=7)"
      ],
      "metadata": {
        "id": "J_Jp1rR-tfPa"
      },
      "execution_count": 29,
      "outputs": []
    },
    {
      "cell_type": "code",
      "source": [
        "df_clientes['razao_social'] = df_clientes['razao_social'].str.strip()\n",
        "df_clientes['cpf_cnpj'] = df_clientes['cpf_cnpj'].str.strip()\n",
        "df_produtos['nome'] = df_produtos['nome'].str.strip()"
      ],
      "metadata": {
        "id": "eD0Yz8wX66r_"
      },
      "execution_count": 30,
      "outputs": []
    },
    {
      "cell_type": "code",
      "source": [
        "# Cria novos dataframes sem valores vazios nas linhas\n",
        "new_df_default = df_default.dropna().drop_duplicates()\n",
        "new_df_clientes = df_clientes.dropna().drop_duplicates(subset=['razao_social'], keep=\"first\")\n",
        "new_df_clientes = new_df_clientes.dropna().drop_duplicates(subset=['cpf_cnpj'], keep=\"first\")\n",
        "new_df_usuarios = df_usuarios.dropna().drop_duplicates()\n",
        "new_df_segmentos = df_segmentos.dropna().drop_duplicates()\n",
        "new_df_fabricantes = df_fabricantes.dropna().drop_duplicates()\n",
        "new_df_produtos = df_produtos.dropna().drop_duplicates(subset=['nome'], keep=\"first\")\n",
        "new_df_faturados = df_faturados.dropna().drop_duplicates()\n",
        "new_df_contratos = df_contratos.dropna().drop_duplicates()\n",
        "#subset=['id_cliente', 'id_produto'], keep=False\n",
        "# new_df_clientes.to_excel(\"clientes.xlsx\", index=False)"
      ],
      "metadata": {
        "id": "7lL0opYIwx_9"
      },
      "execution_count": 31,
      "outputs": []
    },
    {
      "cell_type": "code",
      "source": [
        "# Cria novos dataframes contendo apenas as linhas com valores nulos\n",
        "df_default_nulos = df_default[df_default.isnull().any(axis=1)]\n",
        "df_clientes_nulos = df_clientes[df_clientes.isnull().any(axis=1)]\n",
        "df_usuarios_nulos = df_usuarios[df_usuarios.isnull().any(axis=1)]\n",
        "df_segmentos_nulos = df_segmentos[df_segmentos.isnull().any(axis=1)]\n",
        "df_fabricantes_nulos = df_fabricantes[df_fabricantes.isnull().any(axis=1)]\n",
        "df_produtos_nulos = df_produtos[df_produtos.isnull().any(axis=1)]\n",
        "df_faturados_nulos = df_faturados[df_faturados.isnull().any(axis=1)]\n",
        "df_contratos_nulos = df_contratos[df_contratos.isnull().any(axis=1)]\n",
        "# df_clientes_nulos.to_excel(\"clientes_nulos.xlsx\", index=False)"
      ],
      "metadata": {
        "id": "wz-j0nYZ1oJ4"
      },
      "execution_count": 32,
      "outputs": []
    },
    {
      "cell_type": "code",
      "source": [
        "def validate_cpf(cpf):\n",
        "    cpf = cpf.replace(\".\", \"\").replace(\"-\", \"\")\n",
        "\n",
        "    if len(cpf) != 11 or cpf == cpf[0] * len(cpf):\n",
        "        return False\n",
        "\n",
        "    cpf_array = list(map(int, cpf))\n",
        "\n",
        "    def calcular_digito(cpf_parcial, pesos):\n",
        "        soma = sum(d * p for d, p in zip(cpf_parcial, pesos))\n",
        "        resto = soma % 11\n",
        "        return 0 if resto < 2 else 11 - resto\n",
        "\n",
        "    pesos1 = [10, 9, 8, 7, 6, 5, 4, 3, 2]\n",
        "    pesos2 = [11, 10, 9, 8, 7, 6, 5, 4, 3, 2]\n",
        "\n",
        "    primeiro_digito = calcular_digito(cpf_array[:9], pesos1)\n",
        "    segundo_digito = calcular_digito(cpf_array[:9] + [primeiro_digito], pesos2)\n",
        "\n",
        "    return primeiro_digito == cpf_array[9] and segundo_digito == cpf_array[10]\n",
        "\n",
        "def validate_cnpj(cnpj):\n",
        "    cnpj = cnpj.replace(\".\", \"\").replace(\"/\", \"\").replace(\"-\", \"\")\n",
        "\n",
        "    if len(cnpj) != 14 or cnpj == cnpj[0] * len(cnpj):\n",
        "        return False\n",
        "\n",
        "    cnpj_array = list(map(int, cnpj))\n",
        "\n",
        "    def calcular_digito(cnpj_parcial, pesos):\n",
        "        soma = sum(d * p for d, p in zip(cnpj_parcial, pesos))\n",
        "        resto = soma % 11\n",
        "        return 0 if resto < 2 else 11 - resto\n",
        "\n",
        "    pesos1 = [5, 4, 3, 2, 9, 8, 7, 6, 5, 4, 3, 2]\n",
        "    pesos2 = [6, 5, 4, 3, 2, 9, 8, 7, 6, 5, 4, 3, 2]\n",
        "\n",
        "    primeiro_digito = calcular_digito(cnpj_array[:12], pesos1)\n",
        "    segundo_digito = calcular_digito(cnpj_array[:12] + [primeiro_digito], pesos2)\n",
        "\n",
        "    return primeiro_digito == cnpj_array[12] and segundo_digito == cnpj_array[13]\n",
        "\n",
        "def validate_cpf_or_cnpj(cpf_cnpj):\n",
        "    cpf_cnpj = cpf_cnpj.replace(\".\", \"\").replace(\"/\", \"\").replace(\"-\", \"\")\n",
        "\n",
        "    if len(cpf_cnpj) == 11:\n",
        "        return validate_cpf(cpf_cnpj)\n",
        "    elif len(cpf_cnpj) == 14:\n",
        "        return validate_cnpj(cpf_cnpj)\n",
        "    else:\n",
        "        return False\n",
        "\n",
        "# Filtra os clientes com CPF/CNPJ válidos\n",
        "valid_df_clientes = new_df_clientes[new_df_clientes['cpf_cnpj'].apply(validate_cpf_or_cnpj)]"
      ],
      "metadata": {
        "id": "cRFwEOrP0nON"
      },
      "execution_count": 33,
      "outputs": []
    },
    {
      "cell_type": "code",
      "source": [
        "# Salvando em um arquivo JSON\n",
        "new_df_usuarios.to_json(\"usuarios.json\", orient='records')\n",
        "new_df_segmentos.to_json(\"segmentos.json\", orient='records')\n",
        "new_df_fabricantes.to_json(\"fabricantes.json\", orient='records')\n",
        "new_df_faturados.to_json(\"faturados.json\", orient='records')\n",
        "new_df_produtos.to_json(\"produtos.json\", orient='records')\n",
        "valid_df_clientes.to_json(\"clientes.json\", orient='records')"
      ],
      "metadata": {
        "id": "sRIFNLO_GBh6"
      },
      "execution_count": 34,
      "outputs": []
    },
    {
      "cell_type": "code",
      "source": [
        "new_df_contratos.to_json(\"contratos.json\", orient='records')"
      ],
      "metadata": {
        "id": "0_2wWNEKIIiR"
      },
      "execution_count": 35,
      "outputs": []
    },
    {
      "cell_type": "code",
      "source": [],
      "metadata": {
        "id": "_m4R2e1yNe1Q"
      },
      "execution_count": null,
      "outputs": []
    },
    {
      "cell_type": "code",
      "source": [],
      "metadata": {
        "id": "noZ84XS527gQ"
      },
      "execution_count": null,
      "outputs": []
    }
  ]
}